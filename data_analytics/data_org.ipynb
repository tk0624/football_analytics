{
 "cells": [
  {
   "cell_type": "code",
   "execution_count": 25,
   "id": "c1bf1f0d",
   "metadata": {},
   "outputs": [],
   "source": [
    "import os\n",
    "from dotenv import load_dotenv\n",
    "import requests\n",
    "import pandas as pd\n",
    "import json\n",
    "\n",
    "load_dotenv()\n",
    "api_key = os.getenv(\"API_KEY_DATAORG\")\n",
    "\n",
    "headers = {\n",
    "    \"x-apisports-key\": api_key,\n",
    "    \"accept-encoding\": ''\n",
    "}"
   ]
  },
  {
   "cell_type": "code",
   "execution_count": 26,
   "id": "aa7ac136",
   "metadata": {},
   "outputs": [
    {
     "data": {
      "text/plain": [
       "{'x-apisports-key': 'caec86403f4a411d9335f1585d95bccd', 'accept-encoding': ''}"
      ]
     },
     "execution_count": 26,
     "metadata": {},
     "output_type": "execute_result"
    }
   ],
   "source": [
    "headers"
   ]
  },
  {
   "cell_type": "code",
   "execution_count": 30,
   "id": "55bedeb0",
   "metadata": {},
   "outputs": [
    {
     "name": "stdout",
     "output_type": "stream",
     "text": [
      "Error: 403 - \n"
     ]
    }
   ],
   "source": [
    "# チーム情報を取得\n",
    "# teams_url = 'http://api.football-data.org/v4/persons/44'\n",
    "teams_url = 'https://api.football-data.org/v4/competitions/PL/teams'\n",
    "response = requests.get(teams_url, headers=headers)\n",
    "\n",
    "if response.status_code == 200:\n",
    "    data = response.json()\n",
    "    print(data)\n",
    "else:\n",
    "    print(f'Error: {response.status_code} - {response.reason}')"
   ]
  },
  {
   "cell_type": "code",
   "execution_count": 28,
   "id": "d03360e3",
   "metadata": {},
   "outputs": [
    {
     "data": {
      "text/plain": [
       "<Response [403]>"
      ]
     },
     "execution_count": 28,
     "metadata": {},
     "output_type": "execute_result"
    }
   ],
   "source": [
    "response"
   ]
  },
  {
   "cell_type": "code",
   "execution_count": 4,
   "id": "e5ff7c80",
   "metadata": {},
   "outputs": [],
   "source": [
    "# プレミアリーグのコンペティション ID\n",
    "competition_id = 'PL'\n",
    "\n",
    "# チーム情報を取得\n",
    "teams_url = f'https://api.football-data.org/v4/competitions/{competition_id}/teams'\n",
    "response = requests.get(teams_url, headers=headers)"
   ]
  },
  {
   "cell_type": "code",
   "execution_count": 5,
   "id": "dc260798",
   "metadata": {},
   "outputs": [
    {
     "data": {
      "text/plain": [
       "<Response [403]>"
      ]
     },
     "execution_count": 5,
     "metadata": {},
     "output_type": "execute_result"
    }
   ],
   "source": [
    "response"
   ]
  },
  {
   "cell_type": "code",
   "execution_count": null,
   "id": "7ffaa881",
   "metadata": {},
   "outputs": [
    {
     "name": "stdout",
     "output_type": "stream",
     "text": [
      "チーム情報の取得に失敗しました。ステータスコード: 403\n",
      "プレミアリーグ 2023 年シーズンの選手情報を取得し、保存しました。\n"
     ]
    },
    {
     "ename": "",
     "evalue": "",
     "output_type": "error",
     "traceback": [
      "\u001b[1;31mThe Kernel crashed while executing code in the current cell or a previous cell. \n",
      "\u001b[1;31mPlease review the code in the cell(s) to identify a possible cause of the failure. \n",
      "\u001b[1;31mClick <a href='https://aka.ms/vscodeJupyterKernelCrash'>here</a> for more info. \n",
      "\u001b[1;31mView Jupyter <a href='command:jupyter.viewOutput'>log</a> for further details."
     ]
    }
   ],
   "source": [
    "# プレミアリーグのコンペティション ID\n",
    "competition_id = 'PL'\n",
    "\n",
    "# チーム情報を取得\n",
    "teams_url = f'https://api.football-data.org/v4/competitions/{competition_id}/teams'\n",
    "response = requests.get(teams_url, headers=headers)\n",
    "\n",
    "if response.status_code != 200:\n",
    "    print(f'チーム情報の取得に失敗しました。ステータスコード: {response.status_code}')\n",
    "    exit()\n",
    "\n",
    "teams_data = response.json()\n",
    "teams = teams_data.get('teams', [])\n",
    "\n",
    "# 全選手の情報を格納するリスト\n",
    "all_players = []\n",
    "\n",
    "# 各チームの選手情報を取得\n",
    "for team in teams:\n",
    "    team_id = team.get('id')\n",
    "    team_name = team.get('name')\n",
    "    squad_url = f'https://api.football-data.org/v4/teams/{team_id}'\n",
    "    squad_response = requests.get(squad_url, headers=headers)\n",
    "\n",
    "    if squad_response.status_code != 200:\n",
    "        print(f'{team_name} の選手情報の取得に失敗しました。ステータスコード: {squad_response.status_code}')\n",
    "        continue\n",
    "\n",
    "    squad_data = squad_response.json()\n",
    "    squad = squad_data.get('squad', [])\n",
    "\n",
    "    for player in squad:\n",
    "        player_info = {\n",
    "            'team': team_name,\n",
    "            'id': player.get('id'),\n",
    "            'name': player.get('name'),\n",
    "            'position': player.get('position'),\n",
    "            'dateOfBirth': player.get('dateOfBirth'),\n",
    "            'nationality': player.get('nationality'),\n",
    "            'shirtNumber': player.get('shirtNumber')\n",
    "        }\n",
    "        all_players.append(player_info)\n",
    "\n",
    "# 取得した選手情報を JSON ファイルに保存\n",
    "with open('players.json', 'w', encoding='utf-8') as f:\n",
    "    json.dump(all_players, f, ensure_ascii=False, indent=4)\n",
    "\n",
    "print('プレミアリーグ 2023 年シーズンの選手情報を取得し、保存しました。')\n"
   ]
  },
  {
   "cell_type": "code",
   "execution_count": null,
   "id": "ff734921",
   "metadata": {},
   "outputs": [],
   "source": []
  }
 ],
 "metadata": {
  "kernelspec": {
   "display_name": "football_analytics",
   "language": "python",
   "name": "python3"
  },
  "language_info": {
   "codemirror_mode": {
    "name": "ipython",
    "version": 3
   },
   "file_extension": ".py",
   "mimetype": "text/x-python",
   "name": "python",
   "nbconvert_exporter": "python",
   "pygments_lexer": "ipython3",
   "version": "3.13.3"
  }
 },
 "nbformat": 4,
 "nbformat_minor": 5
}
